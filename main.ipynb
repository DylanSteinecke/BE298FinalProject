{
 "cells": [
  {
   "cell_type": "code",
   "execution_count": 1,
   "id": "00a6417a",
   "metadata": {},
   "outputs": [
    {
     "data": {
      "text/html": [
       "<style>.container { width:90% !important; }</style>"
      ],
      "text/plain": [
       "<IPython.core.display.HTML object>"
      ]
     },
     "metadata": {},
     "output_type": "display_data"
    }
   ],
   "source": [
    "import utils, json, requests as req, pandas as pd\n",
    "import matplotlib.pyplot as plt, numpy as np, random\n",
    "import xml.etree.ElementTree as ET\n",
    "from utils import *"
   ]
  },
  {
   "cell_type": "markdown",
   "id": "28e790da",
   "metadata": {},
   "source": [
    "# Get Data"
   ]
  },
  {
   "cell_type": "code",
   "execution_count": 2,
   "id": "781fc903",
   "metadata": {},
   "outputs": [],
   "source": [
    "# GO Term - Protein\n",
    "go_term_cell_comp2protein = json.load(open('data/go_term_cell_comp2protein.json')) ####make go_term_to_protein\n",
    "\n",
    "# Mitochondrial Proteins\n",
    "mitochondrial_proteins = go_term_cell_comp2protein['mitochondrion']\n",
    "human_protein_ids = get_human_proteins()\n",
    "human_mitochondrial_proteins = human_protein_ids.intersection(mitochondrial_proteins)\n",
    "\n",
    "# Protein ID -[is]- Protein Name\n",
    "protein_name_to_id, protein_id_to_name = get_protein_name_to_ids()\n",
    "\n",
    "# Gene Name -[is]- Protein ID\n",
    "gene_name_to_protein_id, protein_id_to_gene_name = map_protein_ids_to_gene_names()"
   ]
  },
  {
   "cell_type": "markdown",
   "id": "dcc6620b",
   "metadata": {},
   "source": [
    "### Drug-Proteins"
   ]
  },
  {
   "cell_type": "code",
   "execution_count": 3,
   "id": "141dddbc",
   "metadata": {},
   "outputs": [],
   "source": [
    "# Drug -[rel]- proteins\n",
    "drug_to_protein_dicts = json.load(open('data/drug_to_protein_dicts.json'))\n",
    "\n",
    "# Drug -[rel]- mitochondrial proteins\n",
    "drug_to_mitochondrial_targets = map_drug_to_go_term_proteins('target', drug_to_protein_dicts, human_mitochondrial_proteins, 'mitochondrial')\n",
    "drug_to_mitochondrial_enzymes = map_drug_to_go_term_proteins('enzyme', drug_to_protein_dicts, human_mitochondrial_proteins, 'mitochondrial')\n",
    "drug_to_mitochondrial_carriers = map_drug_to_go_term_proteins('carrier', drug_to_protein_dicts, human_mitochondrial_proteins, 'mitochondrial')\n",
    "drug_to_mitochondrial_transporters = map_drug_to_go_term_proteins('transporter', drug_to_protein_dicts, human_mitochondrial_proteins, 'mitochondrial')\n",
    "\n",
    "# Drug -[rel]- proportion mitochondrial proteins\n",
    "drug_to_proportion_mitochondrial_targets = get_drugs_proportion_go_proteins(drug_to_protein_dicts['target'], drug_to_mitochondrial_targets)\n",
    "drug_to_proportion_mitochondrial_carriers = get_drugs_proportion_go_proteins(drug_to_protein_dicts['carrier'], drug_to_mitochondrial_carriers)\n",
    "drug_to_proportion_mitochondrial_enzymes = get_drugs_proportion_go_proteins(drug_to_protein_dicts['enzyme'], drug_to_mitochondrial_enzymes)\n",
    "drug_to_proportion_mitochondrial_transporters = get_drugs_proportion_go_proteins(drug_to_protein_dicts['transporter'], drug_to_mitochondrial_transporters)"
   ]
  },
  {
   "cell_type": "markdown",
   "id": "0348dff7",
   "metadata": {},
   "source": [
    "### Protein-[associated with]-Disease"
   ]
  },
  {
   "cell_type": "markdown",
   "id": "f6fc6cae",
   "metadata": {},
   "source": [
    "#### DisGeNET"
   ]
  },
  {
   "cell_type": "code",
   "execution_count": 136,
   "id": "6ca1640e",
   "metadata": {},
   "outputs": [
    {
     "name": "stdout",
     "output_type": "stream",
     "text": [
      "456 diseases\n"
     ]
    }
   ],
   "source": [
    "''' Diseases '''\n",
    "# MeSH -[is]- UMLS (NOTE: Make code for this VVV)\n",
    "kgdr_path = '../Drug Repurposing Knowledge Graph/'\n",
    "umls_to_mesh_id = json.load(open(kgdr_path+'output/otherMappings/umls2mesh_all.json'))\n",
    "\n",
    "# MeSH Name -[is]- MeSH ID -[is]- MeSH Tree Number\n",
    "tree = ET.parse('data/desc2022.xml')\n",
    "root = tree.getroot()\n",
    "mesh_name_to_id, mesh_id_to_name, mesh_tree_to_id, mesh_id_to_tree, all_tree_numbers = get_mesh_name_id_tree_mappings(root)\n",
    "\n",
    "# MeSH Tree Number -[child of]- MeSH Tree Number\n",
    "tree_to_tree = get_mesh_tree_hierarchy(all_tree_numbers)\n",
    "\n",
    "# Gene-Disease Association Dataframe\n",
    "gda_df = get_gene_disease_association_df()\n",
    "threshold = 0.2 # arbitrary\n",
    "filtered_gda_df = gda_df[gda_df['score']>= threshold]\n",
    "# Get studied UMLS IDs that are cardiovascular diseases\n",
    "cardiovascular_disease = 'C14'\n",
    "umls_cardiovascular_diseases = get_umls_mesh_category(cardiovascular_disease, list(filtered_gda_df['diseaseId']), umls_to_mesh_id, mesh_id_to_tree)\n",
    "gda_cvd_df = filtered_gda_df.query('diseaseId in @umls_cardiovascular_diseases')\n",
    "\n",
    "# Disease Name -[is]- Disease ID\n",
    "disease_id_to_name, disease_name_to_id = get_disease_id_to_name(gda_cvd_df)\n",
    "print(len(set(gda_cvd_df['diseaseId'])), 'diseases')"
   ]
  },
  {
   "cell_type": "code",
   "execution_count": 6,
   "id": "c4e12bcc",
   "metadata": {},
   "outputs": [],
   "source": [
    "''' Protein - Diseases (CVDs)'''\n",
    "# Protein/Gene -[associated with]- Diseases\n",
    "protein_to_cvd, cvd_to_protein, gene_to_cvd, cvd_to_gene = get_protein_disease_associations(gda_cvd_df)\n",
    "\n",
    "# Protein -[associated with]- CVDs\n",
    "cvds_to_mito_protein, mito_protein_to_cvd, mito_protein_name_to_cvd_name, cvd_name_to_mito_protein_name = get_disease_to_protein_dicts(cvd_to_protein, human_mitochondrial_proteins, disease_id_to_name, protein_id_to_name)\n",
    "cvds_to_protein, protein_to_cvd, protein_name_to_cvd_name, cvd_name_to_protein_name = get_disease_to_protein_dicts(cvd_to_protein, human_protein_ids, disease_id_to_name, protein_id_to_name)\n",
    "\n",
    "# Top Mitochondrial Proteins and CVDs   \n",
    "cvds_with_most_mito_proteins_names = sort_dict_by_values_length(cvd_name_to_mito_protein_name)\n",
    "cvds_with_most_mito_proteins = sort_dict_by_values_length(cvds_to_mito_protein)\n",
    "mito_proteins_with_most_cvd_names = sort_dict_by_values_length(mito_protein_name_to_cvd_name)\n",
    "mito_proteins_with_most_cvd = sort_dict_by_values_length(mito_protein_to_cvd)"
   ]
  },
  {
   "cell_type": "markdown",
   "id": "7d2bb16d",
   "metadata": {},
   "source": [
    "### Drug-Disease"
   ]
  },
  {
   "cell_type": "code",
   "execution_count": 118,
   "id": "d748d1aa",
   "metadata": {},
   "outputs": [],
   "source": [
    "# Actual Drug-Disease\n",
    "mesh_to_umls = json.load(open(kgdr_path+'output/otherMappings/mesh2umls_all.json'))\n",
    "db_to_mesh_df = pd.read_csv('../Drug Repurposing Knowledge Graph/output/compound2disease/edges_drugbankCompound-TREATS->meshDisease.csv')\n",
    "drug_treats_disease, disease_treated_drug, treated_cardiovascular_diseases = get_drug_treats_disease(db_to_mesh_df, mesh_to_umls, umls_cardiovascular_diseases)\n",
    "cvd_treated_by_drugs, drug_treats_cvds = get_drug_treats_your_disease(drug_treats_disease, treated_cardiovascular_diseases)\n",
    "\n",
    "# Predicted Drug-Disease\n",
    "result_table_dir = 'PathFX/results/all_network_results/'\n",
    "predicted_drug_to_disease = get_drugs_predicted_phenotypes(result_table_dir, bh_cutoff = 0.05)\n",
    "\n",
    "# Correctly Predicted Drug-Disease\n",
    "correct_drug_to_disease = get_correctly_predicted_drug_to_disease(predicted_drug_to_disease, drug_treats_disease)\n",
    "correct_drug_to_cvd = get_correctly_predicted_drug_to_disease(predicted_drug_to_disease, drug_treats_cvds)"
   ]
  },
  {
   "cell_type": "code",
   "execution_count": 142,
   "id": "af2b17e1",
   "metadata": {},
   "outputs": [
    {
     "name": "stdout",
     "output_type": "stream",
     "text": [
      "3642 predicted drugs to diseases\n",
      "1256 correctly-predicted drugs to diseases\n",
      "974 drugs that treat CVDs\n",
      "546 correctly-predicted drugs to CVDs\n"
     ]
    }
   ],
   "source": [
    "print(len(predicted_drug_to_disease),'predicted drugs to diseases')\n",
    "print(len(correct_drug_to_disease),'correctly-predicted drugs to diseases')\n",
    "\n",
    "#print(len(predicted_drug_to_cvd),'predicted CVDs')\n",
    "print(len(drug_treats_cvds),'drugs that treat CVDs')\n",
    "print(len(correct_drug_to_cvd),'correctly-predicted drugs to CVDs')"
   ]
  },
  {
   "cell_type": "markdown",
   "id": "d66e88ac",
   "metadata": {},
   "source": [
    "### Drug-Protein-Disease Pathways"
   ]
  },
  {
   "cell_type": "code",
   "execution_count": 129,
   "id": "05b76b06",
   "metadata": {},
   "outputs": [],
   "source": [
    "drug_to_disease_to_genes, drug_to_disease_to_proteins = get_pathways_genes_and_proteins(correct_drug_to_disease, bh_cutoff = 0.05)\n",
    "drug_to_cvd_to_genes, drug_to_cvd_to_proteins = get_pathways_genes_and_proteins(correct_drug_to_cvd, bh_cutoff = 0.05)"
   ]
  },
  {
   "cell_type": "markdown",
   "id": "590df0c9",
   "metadata": {},
   "source": [
    "# Analyze Data\n",
    "- Check proportion of mitochondrial proteins in targets, disease-proteins, and pathway\n",
    "- Compare those proportions"
   ]
  },
  {
   "cell_type": "markdown",
   "id": "6810465d",
   "metadata": {},
   "source": [
    "###### Mitochondrial Proteins / All Proteins"
   ]
  },
  {
   "cell_type": "code",
   "execution_count": 130,
   "id": "c3fc6005",
   "metadata": {},
   "outputs": [
    {
     "name": "stdout",
     "output_type": "stream",
     "text": [
      "1354 mitochondrial proteins\n",
      "20386 total human proteins\n",
      "6.64%\n"
     ]
    }
   ],
   "source": [
    "print(f'{len(human_mitochondrial_proteins)} mitochondrial proteins')\n",
    "print(f'{len(human_protein_ids)} total human proteins')\n",
    "print(f'{round(len(human_mitochondrial_proteins)/len(human_protein_ids),4)*100}%')"
   ]
  },
  {
   "cell_type": "markdown",
   "id": "7b9fbfdf",
   "metadata": {},
   "source": [
    "##### Mitochondrial Drug-Related Proteins / All Drug-Related Proteins"
   ]
  },
  {
   "cell_type": "code",
   "execution_count": 150,
   "id": "15dda679",
   "metadata": {},
   "outputs": [
    {
     "name": "stdout",
     "output_type": "stream",
     "text": [
      "5804 targets\n",
      "612 carriers\n",
      "1737 enzymes\n",
      "1050 transporters\n",
      "6389 total proteins\n"
     ]
    }
   ],
   "source": [
    "protein_interacting_drugs = list()\n",
    "for rel in drug_to_protein_dicts:\n",
    "    print(f'{len(drug_to_protein_dicts[rel])} {rel}s')\n",
    "    protein_interacting_drugs += drug_to_protein_dicts[rel]\n",
    "protein_interacting_drugs = set(protein_interacting_drugs)\n",
    "print(len(protein_interacting_drugs),'total proteins')"
   ]
  },
  {
   "cell_type": "code",
   "execution_count": 82,
   "id": "e8554795",
   "metadata": {},
   "outputs": [
    {
     "name": "stdout",
     "output_type": "stream",
     "text": [
      "ACTUAL\n",
      "2801 unique targets of 14335 targets \n",
      "1657 mitochondrial drug targets of all 14335 drug targets (11.600000000000001%))\n",
      "402 unique mitochondrial drug targets of all 2801 unique drug targets (14.399999999999999%))\n",
      "\n",
      "393 unique enzymes of 5334 enzymes \n",
      "710 mitochondrial drug enzymes of all 5334 drug enzymes (13.3%))\n",
      "72 unique mitochondrial drug enzymes of all 393 unique drug enzymes (18.3%))\n",
      "\n",
      "75 unique carriers of 866 carriers \n",
      "0 mitochondrial drug carriers of all 866 drug carriers (0.0%))\n",
      "0 unique mitochondrial drug carriers of all 75 unique drug carriers (0.0%))\n",
      "\n",
      "258 unique transporters of 3214 transporters \n",
      "66 mitochondrial drug transporters of all 3214 drug transporters (2.1%))\n",
      "18 unique mitochondrial drug transporters of all 258 unique drug transporters (7.000000000000001%))\n",
      "\n",
      "1163 unique targets of 3242 targets \n",
      "281 mitochondrial CVD drug targets of all 3242 CVD drug targets (8.7%))\n",
      "159 unique mitochondrial CVD drug targets of all 1163 unique CVD drug targets (13.700000000000001%))\n",
      "\n",
      "212 unique enzymes of 2047 enzymes \n",
      "288 mitochondrial CVD drug enzymes of all 2047 CVD drug enzymes (14.099999999999998%))\n",
      "35 unique mitochondrial CVD drug enzymes of all 212 unique CVD drug enzymes (16.5%))\n",
      "\n",
      "151 unique transporters of 1228 transporters \n",
      "31 mitochondrial CVD drug transporters of all 1228 CVD drug transporters (2.5%))\n",
      "11 unique mitochondrial CVD drug transporters of all 151 unique CVD drug transporters (7.3%))\n",
      "\n",
      "40 unique carriers of 307 carriers \n",
      "0 mitochondrial CVD drug carriers of all 307 CVD drug carriers (0.0%))\n",
      "0 unique mitochondrial CVD drug carriers of all 40 unique CVD drug carriers (0.0%))\n",
      "\n"
     ]
    },
    {
     "data": {
      "text/plain": [
       "(0.0, 0.0)"
      ]
     },
     "execution_count": 82,
     "metadata": {},
     "output_type": "execute_result"
    }
   ],
   "source": [
    "'''All Drugs'''\n",
    "print('ACTUAL')\n",
    "unique_all_targets, all_targets = get_all_drugs_proteins(drug_to_protein_dicts['target'])\n",
    "unique_mitochondrial_targets, mitochondrial_targets = get_mitochondrial_drugs_proteins(all_targets, human_mitochondrial_proteins)\n",
    "display_go_related_proportions(unique_all_targets, all_targets, \n",
    "                               unique_mitochondrial_targets, mitochondrial_targets,\n",
    "                               rel = 'targets', go_term = 'mitochondrial', drug_type = 'drug')\n",
    "\n",
    "unique_all_enzymes, all_enzymes = get_all_drugs_proteins(drug_to_protein_dicts['enzyme'])\n",
    "unique_mitochondrial_enzymes, mitochondrial_enzymes = get_mitochondrial_drugs_proteins(all_enzymes, human_mitochondrial_proteins)\n",
    "display_go_related_proportions(unique_all_enzymes, all_enzymes, \n",
    "                               unique_mitochondrial_enzymes, mitochondrial_enzymes,\n",
    "                               rel = 'enzymes', go_term = 'mitochondrial', drug_type = 'drug')\n",
    "\n",
    "unique_all_carriers, all_carriers = get_all_drugs_proteins(drug_to_protein_dicts['carrier'])\n",
    "unique_mitochondrial_carriers, mitochondrial_carriers = get_mitochondrial_drugs_proteins(all_carriers, human_mitochondrial_proteins)\n",
    "display_go_related_proportions(unique_all_carriers, all_carriers, \n",
    "                               unique_mitochondrial_carriers, mitochondrial_carriers,\n",
    "                               rel = 'carriers', go_term = 'mitochondrial', drug_type = 'drug')\n",
    "\n",
    "unique_all_transporters, all_transporters = get_all_drugs_proteins(drug_to_protein_dicts['transporter'])\n",
    "unique_mitochondrial_transporters, mitochondrial_transporters = get_mitochondrial_drugs_proteins(all_transporters, human_mitochondrial_proteins)\n",
    "display_go_related_proportions(unique_all_transporters, all_transporters, \n",
    "                               unique_mitochondrial_transporters, mitochondrial_transporters,\n",
    "                               rel = 'transporters', go_term = 'mitochondrial', drug_type = 'drug')\n",
    "\n",
    "\n",
    "'''CVD Drugs'''\n",
    "unique_cvd_targets, cvd_targets = get_your_diseases_drugs_proteins(drug_treats_cvds, drug_to_protein_dicts['target'])\n",
    "unique_mitochondrial_cvd_targets, mitochondrial_cvd_targets = get_mitochondrial_drugs_proteins(cvd_targets, human_mitochondrial_proteins)\n",
    "display_go_related_proportions(unique_cvd_targets, cvd_targets, \n",
    "                               unique_mitochondrial_cvd_targets, mitochondrial_cvd_targets,\n",
    "                               rel = 'targets', go_term = 'mitochondrial', drug_type = 'CVD drug')\n",
    "\n",
    "unique_cvd_enzymes, cvd_enzymes = get_your_diseases_drugs_proteins(drug_treats_cvds, drug_to_protein_dicts['enzyme'])\n",
    "unique_mitochondrial_cvd_enzymes, mitochondrial_cvd_enzymes = get_mitochondrial_drugs_proteins(cvd_enzymes, human_mitochondrial_proteins)\n",
    "display_go_related_proportions(unique_cvd_enzymes, cvd_enzymes, \n",
    "                               unique_mitochondrial_cvd_enzymes, mitochondrial_cvd_enzymes,\n",
    "                               rel = 'enzymes', go_term = 'mitochondrial', drug_type = 'CVD drug')\n",
    "\n",
    "unique_cvd_transporters, cvd_transporters = get_your_diseases_drugs_proteins(drug_treats_cvds, drug_to_protein_dicts['transporter'])\n",
    "unique_mitochondrial_cvd_transporters, mitochondrial_cvd_transporters = get_mitochondrial_drugs_proteins(cvd_transporters, human_mitochondrial_proteins)\n",
    "display_go_related_proportions(unique_cvd_transporters, cvd_transporters, \n",
    "                               unique_mitochondrial_cvd_transporters, mitochondrial_cvd_transporters,\n",
    "                               rel = 'transporters', go_term = 'mitochondrial', drug_type = 'CVD drug')\n",
    "\n",
    "unique_cvd_carriers, cvd_carriers = get_your_diseases_drugs_proteins(drug_treats_cvds, drug_to_protein_dicts['carrier'])\n",
    "unique_mitochondrial_cvd_carriers, mitochondrial_cvd_carriers = get_mitochondrial_drugs_proteins(cvd_carriers, human_mitochondrial_proteins)\n",
    "display_go_related_proportions(unique_cvd_carriers, cvd_carriers, \n",
    "                               unique_mitochondrial_cvd_carriers, mitochondrial_cvd_carriers,\n",
    "                               rel = 'carriers', go_term = 'mitochondrial', drug_type = 'CVD drug')"
   ]
  },
  {
   "cell_type": "code",
   "execution_count": 79,
   "id": "b36b9adf",
   "metadata": {
    "scrolled": false
   },
   "outputs": [
    {
     "name": "stdout",
     "output_type": "stream",
     "text": [
      "Permutation Test\n",
      "2801 unique target of 14335 target \n",
      "938 pretend-mitochondrial drug target of all 14335 drug target (6.566666666666666%))\n",
      "188 unique pretend-mitochondrial drug target of all 2801 unique drug target (6.423333333333332%))\n",
      "\n",
      "393 unique enzyme of 5334 enzyme \n",
      "71 pretend-mitochondrial drug enzyme of all 5334 drug enzyme (8.449999999999998%))\n",
      "22 unique pretend-mitochondrial drug enzyme of all 393 unique drug enzyme (6.646666666666665%))\n",
      "\n",
      "258 unique transporter of 3214 transporter \n",
      "143 pretend-mitochondrial drug transporter of all 3214 drug transporter (8.576666666666666%))\n",
      "14 unique pretend-mitochondrial drug transporter of all 258 unique drug transporter (6.583333333333334%))\n",
      "\n",
      "75 unique carrier of 866 carrier \n",
      "44 pretend-mitochondrial drug carrier of all 866 drug carrier (5.5166666666666675%))\n",
      "5 unique pretend-mitochondrial drug carrier of all 75 unique drug carrier (5.906666666666666%))\n",
      "\n",
      "1163 unique target of 3242 target \n",
      "156 pretend-mitochondrial CVD drug target of all 3242 CVD drug target (6.196666666666667%))\n",
      "72 unique pretend-mitochondrial CVD drug target of all 1163 unique CVD drug target (6.366666666666665%))\n",
      "\n",
      "212 unique enzyme of 2047 enzyme \n",
      "438 pretend-mitochondrial CVD drug enzyme of all 2047 CVD drug enzyme (10.303333333333335%))\n",
      "16 unique pretend-mitochondrial CVD drug enzyme of all 212 unique CVD drug enzyme (6.709999999999999%))\n",
      "\n",
      "151 unique transporter of 1228 transporter \n",
      "156 pretend-mitochondrial CVD drug transporter of all 1228 CVD drug transporter (6.24%))\n",
      "9 unique pretend-mitochondrial CVD drug transporter of all 151 unique CVD drug transporter (6.883333333333334%))\n",
      "\n",
      "40 unique carrier of 307 carrier \n",
      "56 pretend-mitochondrial CVD drug carrier of all 307 CVD drug carrier (8.73%))\n",
      "3 unique pretend-mitochondrial CVD drug carrier of all 40 unique CVD drug carrier (6.75%))\n",
      "\n"
     ]
    }
   ],
   "source": [
    "'''\n",
    "PERMUTATION TEST\n",
    "'''\n",
    "print('Permutation Test')\n",
    "'''All drugs'''\n",
    "simulate_go_term_proteins_in_drug_proteins(proteome = human_protein_ids, original_go_term_proteins = human_mitochondrial_proteins,\n",
    "                                           simulations = 30, rel = 'target', go_term = 'pretend-mitochondrial', drug_type = 'drug')\n",
    "simulate_go_term_proteins_in_drug_proteins(proteome = human_protein_ids, original_go_term_proteins = human_mitochondrial_proteins,\n",
    "                                           simulations = 30, rel = 'enzyme', go_term = 'pretend-mitochondrial', drug_type = 'drug')\n",
    "simulate_go_term_proteins_in_drug_proteins(proteome = human_protein_ids, original_go_term_proteins = human_mitochondrial_proteins,\n",
    "                                           simulations = 30, rel = 'transporter', go_term = 'pretend-mitochondrial', drug_type = 'drug')\n",
    "simulate_go_term_proteins_in_drug_proteins(proteome = human_protein_ids, original_go_term_proteins = human_mitochondrial_proteins,\n",
    "                                           simulations = 30, rel = 'carrier', go_term = 'pretend-mitochondrial', drug_type = 'drug')\n",
    "\n",
    "'''CVD drugs'''\n",
    "simulate_go_term_proteins_in_drug_proteins(proteome = human_protein_ids, original_go_term_proteins = human_mitochondrial_proteins,\n",
    "                                           simulations = 30, rel = 'target', go_term = 'pretend-mitochondrial', drug_type = 'CVD drug',\n",
    "                                           specific_drugs = drug_treats_cvds, all_drugs = False)\n",
    "simulate_go_term_proteins_in_drug_proteins(proteome = human_protein_ids, original_go_term_proteins = human_mitochondrial_proteins,\n",
    "                                           simulations = 30, rel = 'enzyme', go_term = 'pretend-mitochondrial', drug_type = 'CVD drug',\n",
    "                                           specific_drugs = drug_treats_cvds, all_drugs = False)\n",
    "simulate_go_term_proteins_in_drug_proteins(proteome = human_protein_ids, original_go_term_proteins = human_mitochondrial_proteins,\n",
    "                                           simulations = 30, rel = 'transporter', go_term = 'pretend-mitochondrial', drug_type = 'CVD drug',\n",
    "                                           specific_drugs = drug_treats_cvds, all_drugs = False)\n",
    "simulate_go_term_proteins_in_drug_proteins(proteome = human_protein_ids, original_go_term_proteins = human_mitochondrial_proteins,\n",
    "                                           simulations = 30, rel = 'carrier', go_term = 'pretend-mitochondrial', drug_type = 'CVD drug',\n",
    "                                           specific_drugs = drug_treats_cvds, all_drugs = False)"
   ]
  },
  {
   "cell_type": "markdown",
   "id": "1c89453a",
   "metadata": {},
   "source": [
    "###### Mitochondrial Proteins / Disease Proteins"
   ]
  },
  {
   "cell_type": "code",
   "execution_count": 133,
   "id": "6f3e35ef",
   "metadata": {},
   "outputs": [
    {
     "name": "stdout",
     "output_type": "stream",
     "text": [
      "13.5 % mitochondrial proteins / proteins in CVDs (allows duplicates)\n",
      "8334\n"
     ]
    }
   ],
   "source": [
    "mito_protein_occurs_in_cvd = 0\n",
    "for protein, cvds in mito_protein_to_cvd.items():\n",
    "    mito_protein_occurs_in_cvd += len(cvds)\n",
    "    \n",
    "protein_occurs_in_cvd = 0\n",
    "for protein, cvds in protein_to_cvd.items():\n",
    "    protein_occurs_in_cvd += len(cvds)\n",
    "print(round(mito_protein_occurs_in_cvd/protein_occurs_in_cvd,3)*100, '% mitochondrial proteins / proteins in CVDs (allows duplicates)')\n",
    "print(protein_occurs_in_cvd)"
   ]
  },
  {
   "cell_type": "code",
   "execution_count": 15,
   "id": "f27a5295",
   "metadata": {},
   "outputs": [
    {
     "name": "stdout",
     "output_type": "stream",
     "text": [
      "236/2086 (11.3%) unique proteins associated with CVDs are mitochondrial proteins\n",
      "\n",
      "Actual:   166/456 (36.4 %) of CVDs involve mitochondrial protein(s)\n",
      "Simulated: 43.5/456 (9.5%) of CVDs involve mitochondrial protein(s)\n"
     ]
    }
   ],
   "source": [
    "print(f'{len(mito_protein_to_cvd)}/{len(protein_to_cvd)} '\\\n",
    "      f'({round(len(mito_protein_to_cvd)/len(protein_to_cvd),3)*100}%) '\\\n",
    "      'unique proteins associated with CVDs are mitochondrial proteins')\n",
    "prop_cvds_with_mito_proteins = str(round(len(cvds_to_mito_protein)/len(cvds_to_protein), 3)*100)\n",
    "print(f'\\nActual:   {len(cvds_to_mito_protein)}/{len(cvds_to_protein)} '\\\n",
    "      f'({prop_cvds_with_mito_proteins} %) of CVDs involve mitochondrial protein(s)')\n",
    "\n",
    "simulated_cvd_has_mito = simulate_disease_to_go_term_related_protein(cvds_to_mito_protein,human_mitochondrial_proteins, human_protein_ids,\n",
    "                                                                    simulations = 20)\n",
    "prop_sim_cvds_with_mito_proteins = str(round(simulated_cvd_has_mito/len(cvds_to_protein), 3)*100)\n",
    "print(f'Simulated: {simulated_cvd_has_mito}/{len(cvds_to_protein)} '\\\n",
    "      f'({prop_sim_cvds_with_mito_proteins}%) of CVDs involve mitochondrial protein(s)')"
   ]
  },
  {
   "cell_type": "code",
   "execution_count": 87,
   "id": "2fcd970a",
   "metadata": {},
   "outputs": [
    {
     "name": "stdout",
     "output_type": "stream",
     "text": [
      "min - max 30.0 - 36.4\n",
      "35.071999999999996\n"
     ]
    },
    {
     "data": {
      "image/png": "[encoded data removed]",
      "text/plain": [
       "<Figure size 432x288 with 1 Axes>"
      ]
     },
     "metadata": {
      "needs_background": "light"
     },
     "output_type": "display_data"
    }
   ],
   "source": [
    "# note: turn into a function\n",
    "all_sim_prop_cvds_with_mito_proteins = list()\n",
    "simulations = 100\n",
    "for sim in range(simulations):\n",
    "    some_mito_prots = random.sample(list(human_mitochondrial_proteins), int(0.90*len(human_mitochondrial_proteins)))\n",
    "\n",
    "    sim_cvds_to_mito_protein = dict()\n",
    "    for cvd, mito_proteins in cvds_to_mito_protein.items():\n",
    "        new_sim_prots = set(mito_proteins).intersection(set(some_mito_prots))\n",
    "        if len(new_sim_prots) > 0:\n",
    "            sim_cvds_to_mito_protein[cvd] = new_sim_prots\n",
    "    sim_prop_cvds_with_mito_proteins = round(len(sim_cvds_to_mito_protein)/len(cvds_to_protein), 3)*100\n",
    "    all_sim_prop_cvds_with_mito_proteins.append(sim_prop_cvds_with_mito_proteins)\n",
    "    \n",
    "plt.title('90% permutation test: CVDs with mitochondrial proteins')\n",
    "plt.ylabel('# CVDs with the % mitochondrial proteins')\n",
    "plt.xlabel('% CVDs with mitochondrial proteins')\n",
    "plt.hist(all_sim_prop_cvds_with_mito_proteins);\n",
    "print('min - max', min(all_sim_prop_cvds_with_mito_proteins),'-',max(all_sim_prop_cvds_with_mito_proteins))\n",
    "print(np.mean(all_sim_prop_cvds_with_mito_proteins))"
   ]
  },
  {
   "cell_type": "code",
   "execution_count": 89,
   "id": "72f3bd3b",
   "metadata": {},
   "outputs": [
    {
     "data": {
      "image/png": "[encoded data removed]",
      "text/plain": [
       "<Figure size 432x288 with 1 Axes>"
      ]
     },
     "metadata": {
      "needs_background": "light"
     },
     "output_type": "display_data"
    }
   ],
   "source": [
    "disease_name = 'CVD'\n",
    "go_term = 'Mitochondrial'\n",
    "cvd_to_proportion_mito_proteins, cvds_to_number_mito_proteins = display_display_disease_to_go_term_proteins(cvds_to_mito_protein, cvds_to_protein, disease_name, go_term)"
   ]
  },
  {
   "cell_type": "code",
   "execution_count": 90,
   "id": "a154c817",
   "metadata": {},
   "outputs": [
    {
     "data": {
      "image/png": "[encoded data removed]",
      "text/plain": [
       "<Figure size 432x288 with 1 Axes>"
      ]
     },
     "metadata": {
      "needs_background": "light"
     },
     "output_type": "display_data"
    }
   ],
   "source": [
    "display_display_disease_to_go_term_proteins_proportion(cvd_to_proportion_mito_proteins, disease_name, go_term)"
   ]
  },
  {
   "cell_type": "code",
   "execution_count": 91,
   "id": "1d0a7a9b",
   "metadata": {},
   "outputs": [],
   "source": [
    "# CVDs with the highest proportion of mitochondrial proteins\n",
    "cvds_most_mito_proteins_prop = sort_dict_by_values(cvd_to_proportion_mito_proteins)\n",
    "cvd_names_most_mito_proteins_prop = [disease_id_to_name[cvd] for cvd in cvds_most_mito_proteins_prop]\n",
    "cutoff = cvd_names_most_mito_proteins_prop.index('MELAS Syndrome') # top mitochondrial disease in the list\n",
    "top_cvd_names_most_mito_proteins_prop = cvd_names_most_mito_proteins_prop[:cutoff]\n",
    "\n",
    "# CVDs with the most number of mitochondrial proteins\n",
    "cvds_most_mito_proteins = sort_dict_by_values(cvds_to_number_mito_proteins)\n",
    "cvd_names_most_mito_proteins = [disease_id_to_name[cvd] for cvd in cvds_most_mito_proteins]\n",
    "cutoff = cvd_names_most_mito_proteins.index('MELAS Syndrome')\n",
    "top_cvd_names_most_mito_proteins = cvd_names_most_mito_proteins[:cutoff]\n",
    "\n",
    "# Intersection of the two ^\n",
    "top_cvd_names_with_mito_proteins = set(top_cvd_names_most_mito_proteins).intersection(set(top_cvd_names_most_mito_proteins_prop))\n",
    "top_cvds_with_mito_proteins = [disease_name_to_id[cvd] for cvd in top_cvd_names_with_mito_proteins]"
   ]
  },
  {
   "cell_type": "code",
   "execution_count": 96,
   "id": "6fe17888",
   "metadata": {},
   "outputs": [
    {
     "data": {
      "text/plain": [
       "{'Brain Stem Ischemia, Transient',\n",
       " 'Carotid Circulation Transient Ischemic Attack',\n",
       " 'Crescendo Transient Ischemic Attacks',\n",
       " 'Posterior Circulation Transient Ischemic Attack',\n",
       " 'Transient Cerebral Ischemia',\n",
       " 'Transient Ischemic Attack, Anterior Circulation',\n",
       " 'Transient Ischemic Attack, Vertebrobasilar Circulation'}"
      ]
     },
     "execution_count": 96,
     "metadata": {},
     "output_type": "execute_result"
    }
   ],
   "source": [
    "top_cvd_names_with_mito_proteins"
   ]
  },
  {
   "cell_type": "code",
   "execution_count": 98,
   "id": "cc876aca",
   "metadata": {},
   "outputs": [],
   "source": [
    "#top_cvd_names_with_mito_proteins\n",
    "from gprofiler import GProfiler\n",
    "for top_cvd in top_cvds_with_mito_proteins:\n",
    "    break\n",
    "    top_cvds_mito_proteins = cvds_to_mito_protein[top_cvd]\n",
    "    gp = GProfiler(return_dataframe=True)\n",
    "    df = gp.profile(organism='hsapiens', query=top_cvds_mito_proteins)\n",
    "    #display(df.head(10))\n",
    "# top mito proteins in stroke are related to apoptosis"
   ]
  },
  {
   "cell_type": "code",
   "execution_count": 878,
   "id": "a0da3a11",
   "metadata": {},
   "outputs": [
    {
     "name": "stdout",
     "output_type": "stream",
     "text": [
      "291\r"
     ]
    }
   ],
   "source": [
    "# run, will take a while\n",
    "cvds_enriched_for_mito = check_if_disease_to_proteins_is_enriched_for_go_term(cvd_to_protein, go_term = 'mitochondria')"
   ]
  },
  {
   "cell_type": "code",
   "execution_count": 880,
   "id": "ca5fd322",
   "metadata": {},
   "outputs": [
    {
     "data": {
      "text/plain": [
       "0"
      ]
     },
     "execution_count": 880,
     "metadata": {},
     "output_type": "execute_result"
    }
   ],
   "source": [
    "len(cvds_enriched_for_mito)"
   ]
  },
  {
   "cell_type": "markdown",
   "id": "10ebec98",
   "metadata": {},
   "source": [
    "##### Mitochondrial Proteins / Pathway Proteins"
   ]
  },
  {
   "cell_type": "code",
   "execution_count": 123,
   "id": "b599e475",
   "metadata": {},
   "outputs": [
    {
     "name": "stdout",
     "output_type": "stream",
     "text": [
      "All Disease\n",
      "3.5000000000000004% mitchondrial proteins / proteins in drug pathways\n",
      "8.4% unique mitochondrial proteins / unique proteins in drug pathways\n",
      "\n",
      "CVDs\n",
      "3.6999999999999997% mitchondrial proteins / proteins in drug pathways\n",
      "7.7% unique mitochondrial proteins / unique proteins in drug pathways\n"
     ]
    }
   ],
   "source": [
    "print('All Disease')\n",
    "unique_proteins_in_drug_paths, proteins_in_drug_paths = get_all_pathway_proteins(drug_to_disease_to_proteins)\n",
    "unique_mito_proteins_in_drug_paths, mito_proteins_in_drug_paths = get_pathway_mitochondrial_proteins(proteins_in_drug_paths, human_mitochondrial_proteins)\n",
    "print(f'{round(len(mito_proteins_in_drug_paths)/len(proteins_in_drug_paths),3)*100}% mitchondrial proteins / proteins in drug pathways')\n",
    "print(f'{round(len(unique_mito_proteins_in_drug_paths)/len(unique_proteins_in_drug_paths),3)*100}% unique mitochondrial proteins / unique proteins in drug pathways')\n",
    "\n",
    "print('\\nCVDs')\n",
    "unique_proteins_in_drug_paths, proteins_in_drug_paths = get_all_pathway_proteins(drug_to_cvd_to_proteins)\n",
    "unique_mito_proteins_in_drug_paths, mito_proteins_in_drug_paths = get_pathway_mitochondrial_proteins(proteins_in_drug_paths, human_mitochondrial_proteins)\n",
    "print(f'{round(len(mito_proteins_in_drug_paths)/len(proteins_in_drug_paths),3)*100}% mitchondrial proteins / proteins in drug pathways')\n",
    "print(f'{round(len(unique_mito_proteins_in_drug_paths)/len(unique_proteins_in_drug_paths),3)*100}% unique mitochondrial proteins / unique proteins in drug pathways')"
   ]
  }
 ],
 "metadata": {
  "kernelspec": {
   "display_name": "Python 3 (ipykernel)",
   "language": "python",
   "name": "python3"
  },
  "language_info": {
   "codemirror_mode": {
    "name": "ipython",
    "version": 3
   },
   "file_extension": ".py",
   "mimetype": "text/x-python",
   "name": "python",
   "nbconvert_exporter": "python",
   "pygments_lexer": "ipython3",
   "version": "3.9.7"
  }
 },
 "nbformat": 4,
 "nbformat_minor": 5
}
